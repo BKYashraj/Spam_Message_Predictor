{
 "cells": [
  {
   "cell_type": "markdown",
   "id": "994d2b60-49f4-42fa-867d-6d6c0b7bb40b",
   "metadata": {},
   "source": [
    "start of span mail predictor\n"
   ]
  },
  {
   "cell_type": "code",
   "execution_count": 1,
   "id": "c5e64ceb-0012-4c05-93a9-48dc77125db6",
   "metadata": {},
   "outputs": [],
   "source": [
<<<<<<< HEAD
    "import numpy as np\n",
    "import pandas as pd"
   ]
  },
  {
   "cell_type": "markdown",
   "id": "b5ba1c0f",
   "metadata": {},
   "source": [
    "hallo"
=======
    "print(\"helllo\");"
>>>>>>> ae6406593d3bc1b9fb2aed5d72c116fdc0e4325e
   ]
  }
 ],
 "metadata": {
  "kernelspec": {
   "display_name": "Python 3 (ipykernel)",
   "language": "python",
   "name": "python3"
  },
  "language_info": {
   "codemirror_mode": {
    "name": "ipython",
    "version": 3
   },
   "file_extension": ".py",
   "mimetype": "text/x-python",
   "name": "python",
   "nbconvert_exporter": "python",
   "pygments_lexer": "ipython3",
   "version": "3.12.1"
  }
 },
 "nbformat": 4,
 "nbformat_minor": 5
}
